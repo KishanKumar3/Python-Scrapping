{
 "cells": [
  {
   "cell_type": "markdown",
   "metadata": {},
   "source": [
    "# Importing libraries"
   ]
  },
  {
   "cell_type": "code",
   "execution_count": 1,
   "metadata": {},
   "outputs": [],
   "source": [
    "from bs4 import BeautifulSoup\n",
    "import requests\n",
    "from selenium import webdriver\n",
    "from selenium.webdriver.common.keys import Keys\n",
    "import pandas as pd\n",
    "from selenium.common.exceptions import NoSuchElementException\n",
    "from selenium.common.exceptions import StaleElementReferenceException\n",
    "from selenium.webdriver.common.by import By"
   ]
  },
  {
   "cell_type": "markdown",
   "metadata": {},
   "source": [
    "# Connecting to careerguide.com"
   ]
  },
  {
   "cell_type": "code",
   "execution_count": 2,
   "metadata": {},
   "outputs": [],
   "source": [
    "\n",
    "url_careerguide = \"https://www.careerguide.com/career-options\"\n",
    "page_careerguide = requests.get(url_careerguide)\n",
    "soup = BeautifulSoup(page_careerguide.content,'html.parser')"
   ]
  },
  {
   "cell_type": "markdown",
   "metadata": {},
   "source": [
    "# scrapping Job types from careerguide.com"
   ]
  },
  {
   "cell_type": "code",
   "execution_count": 3,
   "metadata": {},
   "outputs": [
    {
     "name": "stdout",
     "output_type": "stream",
     "text": [
      "['Aerospace & Aviation', 'Agriculture', 'Automobile / Autocomponents', 'Banking / Insurance & Finance', 'Beauty & Wellness Industry', 'Building & Construction', 'Building / Hardware & Home Furnishings', 'Chemicals & Pharmaceuticals', 'Commerce or Humanities Stream', 'Defense & Military', 'Designing & Art', 'Education / Skill Development', 'Electronics & Hardware', 'Emergency Services', 'Engineering & Technology', 'Exams and Syllabus', 'Food Processing', 'Gems & Jewellery', 'Handlooms & Handicrafts', 'Healthcare', 'Humanistic Studies', 'Information Technology / Software', 'Institutes in India', 'ITES / BPO', 'Law & Order', 'Leather & Leather Goods', 'Management & Marketing', 'Media / Entertainment & Animation', 'Organised Retail', 'Psychometric Career Test', 'Public Admin & Government', 'Real Estate', 'Science & Research', 'Sports', 'Study Abroad', 'Telecom', 'Textiles & Garments', 'Tourism / Hospitality & Travel', 'Transportation/Logistics/Warehousing & Packaging']\n",
      "39\n"
     ]
    }
   ],
   "source": [
    "\n",
    "heading_tags = [\"h2\"]\n",
    "Job_category = []\n",
    "for tags in soup.find_all(heading_tags):\n",
    "    Job_category.append(tags.text.strip())\n",
    "print(Job_category)\n",
    "print(len(Job_category))    "
   ]
  },
  {
   "cell_type": "markdown",
   "metadata": {},
   "source": [
    "# Connecting to LinkedIn and login  "
   ]
  },
  {
   "cell_type": "code",
   "execution_count": 103,
   "metadata": {},
   "outputs": [
    {
     "name": "stderr",
     "output_type": "stream",
     "text": [
      "C:\\Users\\91798\\AppData\\Local\\Temp\\ipykernel_16640\\839166527.py:2: DeprecationWarning: executable_path has been deprecated, please pass in a Service object\n",
      "  browser = webdriver.Chrome(\"chromedriver.exe\")\n"
     ]
    }
   ],
   "source": [
    "# direct the webdriver to where the browser file is: \n",
    "browser = webdriver.Chrome(\"chromedriver.exe\")\n",
    "# Go to linkedin and login\n",
    "browser.get('https://www.linkedin.com/')\n",
    "browser.maximize_window()\n",
    "# your credentials:\n",
    "username = browser.find_element(\"id\",\"session_key\")\n",
    "username.send_keys(\"yourmail@gmail.com\")  #Enter your e-mail id here\n",
    "password = browser.find_element(\"id\",\"session_password\")\n",
    "password.send_keys(\"yourpass\")            #Enter your password id here\n",
    "#submit Details\n",
    "login_button = browser.find_element(By.CLASS_NAME,\"sign-in-form__submit-button\")\n",
    "login_button.click()\n",
    "browser.get(\"https://www.linkedin.com/jobs/\")"
   ]
  },
  {
   "cell_type": "code",
   "execution_count": 110,
   "metadata": {},
   "outputs": [],
   "source": [
    "#Scroll Web page\n",
    "browser.execute_script(\"window.scrollBy(0,document.body.scrollHeight)\")"
   ]
  },
  {
   "cell_type": "markdown",
   "metadata": {},
   "source": [
    "# Scrapping Jobs Position"
   ]
  },
  {
   "cell_type": "code",
   "execution_count": 111,
   "metadata": {},
   "outputs": [
    {
     "name": "stdout",
     "output_type": "stream",
     "text": [
      "['Data Scientist Analyst/ Manager', 'Associate Data Scientist', 'Data Scientist', 'Part time work', 'Recruiting Specialist', 'Recruiter', 'Data Scientist Associate', 'Remote Python Data Scientist Jobs', 'Data Scientist', 'Data Scientist', 'Data Scientist, Totogi (Remote) - $60,000/year USD', 'JUNIOR DATA SCIENTIST - Dubai, UAE', 'Data analyst or Data scientist ( 4+ yrs only ) @Delhi NCR', 'Data Scientist', 'Data Scientist (remote, freelance)', 'Data Scientist', 'Data Scientist', 'Data Scientist', 'Data Scientist - Remote', 'Data Scientist', 'Data Scientist - Energy Markets', 'Data Scientist', 'Data Scientist', 'Data Scientist', 'Data Scientist, Business and Marketing', 'Data Scientist (Remote)', 'Internship - Seeking Data Scientist Intern that prioritizes work/life balance(Ph.D. candidates encouraged)']\n",
      "\n",
      "27\n"
     ]
    }
   ],
   "source": [
    "\n",
    "job_title = []\n",
    "job9 = browser.find_elements(By.CLASS_NAME,\"job-card-list__title\")\n",
    "for i in job9:\n",
    "    job_title.append(i.text)\n",
    "print(job_title)\n",
    "print()\n",
    "print(len(job_title))"
   ]
  },
  {
   "cell_type": "markdown",
   "metadata": {},
   "source": [
    "# SCRAPPING COMPANY NAME"
   ]
  },
  {
   "cell_type": "code",
   "execution_count": 112,
   "metadata": {},
   "outputs": [
    {
     "name": "stdout",
     "output_type": "stream",
     "text": [
      "['Fuld & Company', 'Uplers', 'take2', 'Forever Living Products India', 'MNC Company', 'MFI Campaign ', 'Uplers', 'Turing.com', 'codvo.ai', 'Catenon India', 'Crossover for Work', 'Cobblestone Energy', 'influxx services', 'United Airlines', 'Hire Digital', 'Tata Consultancy Services', 'Ocrolus', 'HTC Global Services', 'McAfee', '72 Dragons', 'ICF', 'KPMG India', 'STL - Sterlite Technologies Limited', 'Impetus', 'Google', 'CES', 'Dendrite.ai']\n",
      "\n",
      "27\n"
     ]
    }
   ],
   "source": [
    "\n",
    "comp_name = []\n",
    "job2 = browser.find_elements(By.CLASS_NAME,\"job-card-container__primary-description \")     \n",
    "for i in job2:\n",
    "    comp_name.append(i.text)\n",
    "print(comp_name)\n",
    "print()\n",
    "print(len(comp_name))"
   ]
  },
  {
   "cell_type": "markdown",
   "metadata": {},
   "source": [
    "# SCRAPPING JOB LOCATION"
   ]
  },
  {
   "cell_type": "code",
   "execution_count": 113,
   "metadata": {},
   "outputs": [
    {
     "name": "stdout",
     "output_type": "stream",
     "text": [
      "['Greater Delhi Area (Hybrid)', 'India (Remote)', 'India (Remote)', 'Delhi, India (Remote)', 'New Delhi, Delhi, India (Remote)', 'India (Remote)', 'Indore, Madhya Pradesh, India (Remote)', 'India (Remote)', 'Hyderabad, Telangana, India (Remote)', 'Bengaluru, Karnataka, India (Remote)', 'Bengaluru, Karnataka, India (Remote)', 'Delhi, Delhi, India (On-site)', 'Delhi, India (On-site)', 'Gurugram, Haryana, India (Hybrid)', 'Delhi, Delhi, India (Remote)', 'Hyderabad, Telangana, India (Remote)', 'Gurgaon, Haryana, India (Remote)', 'India (Remote)', 'Bengaluru, Karnataka, India (Remote)', 'India (Remote)', 'New Delhi, Delhi, India (Hybrid)', 'Gurugram, Haryana, India (Hybrid)', 'Thane, Maharashtra, India (Remote)', 'Delhi, India (On-site)', 'Gurgaon, Haryana, India (On-site)', 'Hyderabad, Telangana, India (Remote)', 'Maharashtra, India (Remote)']\n",
      "\n",
      "27\n"
     ]
    }
   ],
   "source": [
    "\n",
    "loc_name = []\n",
    "job3 = browser.find_elements(By.CLASS_NAME,\"job-card-container__metadata-item\")\n",
    "for i in job3:\n",
    "    loc_name.append(i.text)\n",
    "print(loc_name)\n",
    "print()\n",
    "print(len(loc_name))"
   ]
  },
  {
   "cell_type": "markdown",
   "metadata": {},
   "source": [
    "# Scrapping for comapny links offering the job"
   ]
  },
  {
   "cell_type": "code",
   "execution_count": 114,
   "metadata": {
    "scrolled": true
   },
   "outputs": [
    {
     "name": "stdout",
     "output_type": "stream",
     "text": [
      "['https://www.linkedin.com/company/fuld-&-company/', 'https://www.linkedin.com/company/weareuplers/', 'https://www.linkedin.com/company/jointake2/', 'https://www.linkedin.com/company/flpindia/', 'https://www.linkedin.com/company/mnccompany3/', 'https://www.linkedin.com/company/woman-empowerment/', 'https://www.linkedin.com/company/turingcom/', 'https://www.linkedin.com/company/codvo/', 'https://www.linkedin.com/company/catenonindia/', 'https://www.linkedin.com/company/crossover-/', 'https://www.linkedin.com/company/cobblestone-energy/', 'https://www.linkedin.com/company/influxx-services/', 'https://www.linkedin.com/company/united-airlines/', 'https://www.linkedin.com/company/hiredigitalco/', 'https://www.linkedin.com/company/tata-consultancy-services/', 'https://www.linkedin.com/company/ocrolus/', 'https://www.linkedin.com/company/htc-global-services/', 'https://www.linkedin.com/company/mcafee/', 'https://www.linkedin.com/company/72-dragons-hk/', 'https://www.linkedin.com/company/icf-international/', 'https://www.linkedin.com/company/kpmgindia/', 'https://www.linkedin.com/company/sterlite-technologies-ltd-/', 'https://www.linkedin.com/company/impetus/', 'https://www.linkedin.com/company/google/', 'https://www.linkedin.com/company/ces/', 'https://www.linkedin.com/company/dendrite-ai/']\n",
      "\n",
      "26\n"
     ]
    }
   ],
   "source": [
    "\n",
    "links = []\n",
    "\n",
    "for com in job2:\n",
    "            comp_links = com.find_elements(By.TAG_NAME,'a')\n",
    "            for a in comp_links:\n",
    "                if str(a.get_attribute('href')).startswith(\"https://www.linkedin.com/company\") and a.get_attribute('href') not in links: \n",
    "                    links.append(a.get_attribute('href'))\n",
    "                else:\n",
    "                    pass\n",
    "                \n",
    "print(links)\n",
    "print()\n",
    "print(len(links))"
   ]
  },
  {
   "cell_type": "code",
   "execution_count": 115,
   "metadata": {},
   "outputs": [
    {
     "name": "stdout",
     "output_type": "stream",
     "text": [
      "['https://www.linkedin.com/company/fuld-&-company/about/', 'https://www.linkedin.com/company/weareuplers/about/', 'https://www.linkedin.com/company/jointake2/about/', 'https://www.linkedin.com/company/flpindia/about/', 'https://www.linkedin.com/company/mnccompany3/about/', 'https://www.linkedin.com/company/woman-empowerment/about/', 'https://www.linkedin.com/company/turingcom/about/', 'https://www.linkedin.com/company/codvo/about/', 'https://www.linkedin.com/company/catenonindia/about/', 'https://www.linkedin.com/company/crossover-/about/', 'https://www.linkedin.com/company/cobblestone-energy/about/', 'https://www.linkedin.com/company/influxx-services/about/', 'https://www.linkedin.com/company/united-airlines/about/', 'https://www.linkedin.com/company/hiredigitalco/about/', 'https://www.linkedin.com/company/tata-consultancy-services/about/', 'https://www.linkedin.com/company/ocrolus/about/', 'https://www.linkedin.com/company/htc-global-services/about/', 'https://www.linkedin.com/company/mcafee/about/', 'https://www.linkedin.com/company/72-dragons-hk/about/', 'https://www.linkedin.com/company/icf-international/about/', 'https://www.linkedin.com/company/kpmgindia/about/', 'https://www.linkedin.com/company/sterlite-technologies-ltd-/about/', 'https://www.linkedin.com/company/impetus/about/', 'https://www.linkedin.com/company/google/about/', 'https://www.linkedin.com/company/ces/about/', 'https://www.linkedin.com/company/dendrite-ai/about/']\n"
     ]
    }
   ],
   "source": [
    "# getting the about links of companies page from LinkedIn\n",
    "link3 = links\n",
    "aboutLinks = []\n",
    "stri = 'about/'\n",
    "if(len(aboutLinks) == 0) :\n",
    "    for i in range (len(link3)) :\n",
    "        aboutLinks.append(link3[i]+stri)\n",
    "print(aboutLinks)\n",
    "\n",
    "\n",
    "    "
   ]
  },
  {
   "cell_type": "markdown",
   "metadata": {},
   "source": [
    "# Storing the data into csv file"
   ]
  },
  {
   "cell_type": "code",
   "execution_count": 124,
   "metadata": {},
   "outputs": [
    {
     "name": "stdout",
     "output_type": "stream",
     "text": [
      "                                         Job Position  \\\n",
      "0                     Data Scientist Analyst/ Manager   \n",
      "1                            Associate Data Scientist   \n",
      "2                                      Data Scientist   \n",
      "3                                      Part time work   \n",
      "4                               Recruiting Specialist   \n",
      "5                                           Recruiter   \n",
      "6                            Data Scientist Associate   \n",
      "7                   Remote Python Data Scientist Jobs   \n",
      "8                                      Data Scientist   \n",
      "9                                      Data Scientist   \n",
      "10  Data Scientist, Totogi (Remote) - $60,000/year...   \n",
      "11                 JUNIOR DATA SCIENTIST - Dubai, UAE   \n",
      "12  Data analyst or Data scientist ( 4+ yrs only )...   \n",
      "13                                     Data Scientist   \n",
      "14                 Data Scientist (remote, freelance)   \n",
      "15                                     Data Scientist   \n",
      "16                                     Data Scientist   \n",
      "17                                     Data Scientist   \n",
      "18                            Data Scientist - Remote   \n",
      "19                                     Data Scientist   \n",
      "20                    Data Scientist - Energy Markets   \n",
      "21                                     Data Scientist   \n",
      "22                                     Data Scientist   \n",
      "23                                     Data Scientist   \n",
      "24             Data Scientist, Business and Marketing   \n",
      "25                            Data Scientist (Remote)   \n",
      "\n",
      "                           Company Name  \\\n",
      "0                        Fuld & Company   \n",
      "1                                Uplers   \n",
      "2                                 take2   \n",
      "3         Forever Living Products India   \n",
      "4                           MNC Company   \n",
      "5                         MFI Campaign    \n",
      "6                                Uplers   \n",
      "7                            Turing.com   \n",
      "8                              codvo.ai   \n",
      "9                         Catenon India   \n",
      "10                   Crossover for Work   \n",
      "11                   Cobblestone Energy   \n",
      "12                     influxx services   \n",
      "13                      United Airlines   \n",
      "14                         Hire Digital   \n",
      "15            Tata Consultancy Services   \n",
      "16                              Ocrolus   \n",
      "17                  HTC Global Services   \n",
      "18                               McAfee   \n",
      "19                           72 Dragons   \n",
      "20                                  ICF   \n",
      "21                           KPMG India   \n",
      "22  STL - Sterlite Technologies Limited   \n",
      "23                              Impetus   \n",
      "24                               Google   \n",
      "25                                  CES   \n",
      "\n",
      "                                  Location  \\\n",
      "0              Greater Delhi Area (Hybrid)   \n",
      "1                           India (Remote)   \n",
      "2                           India (Remote)   \n",
      "3                    Delhi, India (Remote)   \n",
      "4         New Delhi, Delhi, India (Remote)   \n",
      "5                           India (Remote)   \n",
      "6   Indore, Madhya Pradesh, India (Remote)   \n",
      "7                           India (Remote)   \n",
      "8     Hyderabad, Telangana, India (Remote)   \n",
      "9     Bengaluru, Karnataka, India (Remote)   \n",
      "10    Bengaluru, Karnataka, India (Remote)   \n",
      "11           Delhi, Delhi, India (On-site)   \n",
      "12                  Delhi, India (On-site)   \n",
      "13       Gurugram, Haryana, India (Hybrid)   \n",
      "14            Delhi, Delhi, India (Remote)   \n",
      "15    Hyderabad, Telangana, India (Remote)   \n",
      "16        Gurgaon, Haryana, India (Remote)   \n",
      "17                          India (Remote)   \n",
      "18    Bengaluru, Karnataka, India (Remote)   \n",
      "19                          India (Remote)   \n",
      "20        New Delhi, Delhi, India (Hybrid)   \n",
      "21       Gurugram, Haryana, India (Hybrid)   \n",
      "22      Thane, Maharashtra, India (Remote)   \n",
      "23                  Delhi, India (On-site)   \n",
      "24       Gurgaon, Haryana, India (On-site)   \n",
      "25    Hyderabad, Telangana, India (Remote)   \n",
      "\n",
      "                                        Company links  \n",
      "0    https://www.linkedin.com/company/fuld-&-company/  \n",
      "1       https://www.linkedin.com/company/weareuplers/  \n",
      "2         https://www.linkedin.com/company/jointake2/  \n",
      "3          https://www.linkedin.com/company/flpindia/  \n",
      "4       https://www.linkedin.com/company/mnccompany3/  \n",
      "5   https://www.linkedin.com/company/woman-empower...  \n",
      "6         https://www.linkedin.com/company/turingcom/  \n",
      "7             https://www.linkedin.com/company/codvo/  \n",
      "8      https://www.linkedin.com/company/catenonindia/  \n",
      "9        https://www.linkedin.com/company/crossover-/  \n",
      "10  https://www.linkedin.com/company/cobblestone-e...  \n",
      "11  https://www.linkedin.com/company/influxx-servi...  \n",
      "12  https://www.linkedin.com/company/united-airlines/  \n",
      "13    https://www.linkedin.com/company/hiredigitalco/  \n",
      "14  https://www.linkedin.com/company/tata-consulta...  \n",
      "15          https://www.linkedin.com/company/ocrolus/  \n",
      "16  https://www.linkedin.com/company/htc-global-se...  \n",
      "17           https://www.linkedin.com/company/mcafee/  \n",
      "18    https://www.linkedin.com/company/72-dragons-hk/  \n",
      "19  https://www.linkedin.com/company/icf-internati...  \n",
      "20        https://www.linkedin.com/company/kpmgindia/  \n",
      "21  https://www.linkedin.com/company/sterlite-tech...  \n",
      "22          https://www.linkedin.com/company/impetus/  \n",
      "23           https://www.linkedin.com/company/google/  \n",
      "24              https://www.linkedin.com/company/ces/  \n",
      "25      https://www.linkedin.com/company/dendrite-ai/  \n"
     ]
    }
   ],
   "source": [
    "col = [\"Job Position\",\"Company Name\",\"Location\", \"Company links\"]\n",
    "df = pd.DataFrame({\"Job Position\":job_title[slice(26)],\"Company Name\":comp_name[slice(26)], \"Location\":loc_name[slice(26)],\"Company links\":links[slice(26)]})\n",
    "df.head()\n",
    "df.to_csv(\"linkedin_scraping_Job.csv\")\n",
    "print(df)"
   ]
  }
 ],
 "metadata": {
  "kernelspec": {
   "display_name": "Python 3 (ipykernel)",
   "language": "python",
   "name": "python3"
  },
  "language_info": {
   "codemirror_mode": {
    "name": "ipython",
    "version": 3
   },
   "file_extension": ".py",
   "mimetype": "text/x-python",
   "name": "python",
   "nbconvert_exporter": "python",
   "pygments_lexer": "ipython3",
   "version": "3.9.0"
  }
 },
 "nbformat": 4,
 "nbformat_minor": 4
}
